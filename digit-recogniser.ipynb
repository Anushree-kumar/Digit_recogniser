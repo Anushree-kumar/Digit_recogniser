{
 "cells": [
  {
   "cell_type": "markdown",
   "id": "a837a09f",
   "metadata": {
    "papermill": {
     "duration": 0.005153,
     "end_time": "2023-07-08T15:39:16.987092",
     "exception": false,
     "start_time": "2023-07-08T15:39:16.981939",
     "status": "completed"
    },
    "tags": []
   },
   "source": [
    "<h1 align=\"center\"><font color='lavander'>DIGIT RECOGNISER</font></h1>"
   ]
  },
  {
   "cell_type": "markdown",
   "id": "7647b52b",
   "metadata": {
    "papermill": {
     "duration": 0.004659,
     "end_time": "2023-07-08T15:39:16.996851",
     "exception": false,
     "start_time": "2023-07-08T15:39:16.992192",
     "status": "completed"
    },
    "tags": []
   },
   "source": [
    "<h2 align=\"left\"><font color='gray'>Import necessary libraries 📚</font></h2>"
   ]
  },
  {
   "cell_type": "code",
   "execution_count": 1,
   "id": "9a58a0eb",
   "metadata": {
    "execution": {
     "iopub.execute_input": "2023-07-08T15:39:17.008171Z",
     "iopub.status.busy": "2023-07-08T15:39:17.007701Z",
     "iopub.status.idle": "2023-07-08T15:39:26.717871Z",
     "shell.execute_reply": "2023-07-08T15:39:26.716872Z"
    },
    "papermill": {
     "duration": 9.71895,
     "end_time": "2023-07-08T15:39:26.720745",
     "exception": false,
     "start_time": "2023-07-08T15:39:17.001795",
     "status": "completed"
    },
    "tags": []
   },
   "outputs": [
    {
     "name": "stderr",
     "output_type": "stream",
     "text": [
      "/opt/conda/lib/python3.10/site-packages/tensorflow_io/python/ops/__init__.py:98: UserWarning: unable to load libtensorflow_io_plugins.so: unable to open file: libtensorflow_io_plugins.so, from paths: ['/opt/conda/lib/python3.10/site-packages/tensorflow_io/python/ops/libtensorflow_io_plugins.so']\n",
      "caused by: ['/opt/conda/lib/python3.10/site-packages/tensorflow_io/python/ops/libtensorflow_io_plugins.so: undefined symbol: _ZN3tsl6StatusC1EN10tensorflow5error4CodeESt17basic_string_viewIcSt11char_traitsIcEENS_14SourceLocationE']\n",
      "  warnings.warn(f\"unable to load libtensorflow_io_plugins.so: {e}\")\n",
      "/opt/conda/lib/python3.10/site-packages/tensorflow_io/python/ops/__init__.py:104: UserWarning: file system plugins are not loaded: unable to open file: libtensorflow_io.so, from paths: ['/opt/conda/lib/python3.10/site-packages/tensorflow_io/python/ops/libtensorflow_io.so']\n",
      "caused by: ['/opt/conda/lib/python3.10/site-packages/tensorflow_io/python/ops/libtensorflow_io.so: undefined symbol: _ZTVN10tensorflow13GcsFileSystemE']\n",
      "  warnings.warn(f\"file system plugins are not loaded: {e}\")\n"
     ]
    }
   ],
   "source": [
    "import numpy as np\n",
    "import pandas as pd\n",
    "import tensorflow as tf\n",
    "import matplotlib.pyplot as plt\n",
    "import seaborn as sns"
   ]
  },
  {
   "cell_type": "markdown",
   "id": "c5a5c47c",
   "metadata": {
    "papermill": {
     "duration": 0.00461,
     "end_time": "2023-07-08T15:39:26.730258",
     "exception": false,
     "start_time": "2023-07-08T15:39:26.725648",
     "status": "completed"
    },
    "tags": []
   },
   "source": [
    "<h2 align=\"left\"><font color='gray'>Import the  dataset  💾\n",
    " </font></h2>"
   ]
  },
  {
   "cell_type": "code",
   "execution_count": 2,
   "id": "c45afeee",
   "metadata": {
    "execution": {
     "iopub.execute_input": "2023-07-08T15:39:26.742037Z",
     "iopub.status.busy": "2023-07-08T15:39:26.741298Z",
     "iopub.status.idle": "2023-07-08T15:39:26.749618Z",
     "shell.execute_reply": "2023-07-08T15:39:26.748488Z"
    },
    "papermill": {
     "duration": 0.016623,
     "end_time": "2023-07-08T15:39:26.751743",
     "exception": false,
     "start_time": "2023-07-08T15:39:26.735120",
     "status": "completed"
    },
    "tags": []
   },
   "outputs": [
    {
     "name": "stdout",
     "output_type": "stream",
     "text": [
      "/kaggle/input/digit-recognizer/sample_submission.csv\n",
      "/kaggle/input/digit-recognizer/train.csv\n",
      "/kaggle/input/digit-recognizer/test.csv\n"
     ]
    }
   ],
   "source": [
    "import os\n",
    "for dirname, _, filenames in os.walk('/kaggle/input'):\n",
    "    for filename in filenames:\n",
    "        print(os.path.join(dirname, filename))\n"
   ]
  },
  {
   "cell_type": "markdown",
   "id": "c5690bcf",
   "metadata": {
    "papermill": {
     "duration": 0.006173,
     "end_time": "2023-07-08T15:39:26.763126",
     "exception": false,
     "start_time": "2023-07-08T15:39:26.756953",
     "status": "completed"
    },
    "tags": []
   },
   "source": [
    "<h2 align=\"left\"><font color='gray'>EDA - Exploratary Data Analysis  ⚒️\n",
    "</font></h2>"
   ]
  },
  {
   "cell_type": "code",
   "execution_count": 3,
   "id": "fb0b2652",
   "metadata": {
    "execution": {
     "iopub.execute_input": "2023-07-08T15:39:26.774844Z",
     "iopub.status.busy": "2023-07-08T15:39:26.774248Z",
     "iopub.status.idle": "2023-07-08T15:39:32.090430Z",
     "shell.execute_reply": "2023-07-08T15:39:32.089384Z"
    },
    "papermill": {
     "duration": 5.325168,
     "end_time": "2023-07-08T15:39:32.093196",
     "exception": false,
     "start_time": "2023-07-08T15:39:26.768028",
     "status": "completed"
    },
    "tags": []
   },
   "outputs": [],
   "source": [
    "train = pd.read_csv('/kaggle/input/digit-recognizer/train.csv')\n",
    "test = pd.read_csv('/kaggle/input/digit-recognizer/test.csv')"
   ]
  },
  {
   "cell_type": "code",
   "execution_count": 4,
   "id": "95ffddd2",
   "metadata": {
    "execution": {
     "iopub.execute_input": "2023-07-08T15:39:32.105259Z",
     "iopub.status.busy": "2023-07-08T15:39:32.104890Z",
     "iopub.status.idle": "2023-07-08T15:39:32.140792Z",
     "shell.execute_reply": "2023-07-08T15:39:32.139564Z"
    },
    "papermill": {
     "duration": 0.045941,
     "end_time": "2023-07-08T15:39:32.144345",
     "exception": false,
     "start_time": "2023-07-08T15:39:32.098404",
     "status": "completed"
    },
    "tags": []
   },
   "outputs": [
    {
     "data": {
      "text/html": [
       "<div>\n",
       "<style scoped>\n",
       "    .dataframe tbody tr th:only-of-type {\n",
       "        vertical-align: middle;\n",
       "    }\n",
       "\n",
       "    .dataframe tbody tr th {\n",
       "        vertical-align: top;\n",
       "    }\n",
       "\n",
       "    .dataframe thead th {\n",
       "        text-align: right;\n",
       "    }\n",
       "</style>\n",
       "<table border=\"1\" class=\"dataframe\">\n",
       "  <thead>\n",
       "    <tr style=\"text-align: right;\">\n",
       "      <th></th>\n",
       "      <th>label</th>\n",
       "      <th>pixel0</th>\n",
       "      <th>pixel1</th>\n",
       "      <th>pixel2</th>\n",
       "      <th>pixel3</th>\n",
       "      <th>pixel4</th>\n",
       "      <th>pixel5</th>\n",
       "      <th>pixel6</th>\n",
       "      <th>pixel7</th>\n",
       "      <th>pixel8</th>\n",
       "      <th>...</th>\n",
       "      <th>pixel774</th>\n",
       "      <th>pixel775</th>\n",
       "      <th>pixel776</th>\n",
       "      <th>pixel777</th>\n",
       "      <th>pixel778</th>\n",
       "      <th>pixel779</th>\n",
       "      <th>pixel780</th>\n",
       "      <th>pixel781</th>\n",
       "      <th>pixel782</th>\n",
       "      <th>pixel783</th>\n",
       "    </tr>\n",
       "  </thead>\n",
       "  <tbody>\n",
       "    <tr>\n",
       "      <th>0</th>\n",
       "      <td>1</td>\n",
       "      <td>0</td>\n",
       "      <td>0</td>\n",
       "      <td>0</td>\n",
       "      <td>0</td>\n",
       "      <td>0</td>\n",
       "      <td>0</td>\n",
       "      <td>0</td>\n",
       "      <td>0</td>\n",
       "      <td>0</td>\n",
       "      <td>...</td>\n",
       "      <td>0</td>\n",
       "      <td>0</td>\n",
       "      <td>0</td>\n",
       "      <td>0</td>\n",
       "      <td>0</td>\n",
       "      <td>0</td>\n",
       "      <td>0</td>\n",
       "      <td>0</td>\n",
       "      <td>0</td>\n",
       "      <td>0</td>\n",
       "    </tr>\n",
       "    <tr>\n",
       "      <th>1</th>\n",
       "      <td>0</td>\n",
       "      <td>0</td>\n",
       "      <td>0</td>\n",
       "      <td>0</td>\n",
       "      <td>0</td>\n",
       "      <td>0</td>\n",
       "      <td>0</td>\n",
       "      <td>0</td>\n",
       "      <td>0</td>\n",
       "      <td>0</td>\n",
       "      <td>...</td>\n",
       "      <td>0</td>\n",
       "      <td>0</td>\n",
       "      <td>0</td>\n",
       "      <td>0</td>\n",
       "      <td>0</td>\n",
       "      <td>0</td>\n",
       "      <td>0</td>\n",
       "      <td>0</td>\n",
       "      <td>0</td>\n",
       "      <td>0</td>\n",
       "    </tr>\n",
       "    <tr>\n",
       "      <th>2</th>\n",
       "      <td>1</td>\n",
       "      <td>0</td>\n",
       "      <td>0</td>\n",
       "      <td>0</td>\n",
       "      <td>0</td>\n",
       "      <td>0</td>\n",
       "      <td>0</td>\n",
       "      <td>0</td>\n",
       "      <td>0</td>\n",
       "      <td>0</td>\n",
       "      <td>...</td>\n",
       "      <td>0</td>\n",
       "      <td>0</td>\n",
       "      <td>0</td>\n",
       "      <td>0</td>\n",
       "      <td>0</td>\n",
       "      <td>0</td>\n",
       "      <td>0</td>\n",
       "      <td>0</td>\n",
       "      <td>0</td>\n",
       "      <td>0</td>\n",
       "    </tr>\n",
       "    <tr>\n",
       "      <th>3</th>\n",
       "      <td>4</td>\n",
       "      <td>0</td>\n",
       "      <td>0</td>\n",
       "      <td>0</td>\n",
       "      <td>0</td>\n",
       "      <td>0</td>\n",
       "      <td>0</td>\n",
       "      <td>0</td>\n",
       "      <td>0</td>\n",
       "      <td>0</td>\n",
       "      <td>...</td>\n",
       "      <td>0</td>\n",
       "      <td>0</td>\n",
       "      <td>0</td>\n",
       "      <td>0</td>\n",
       "      <td>0</td>\n",
       "      <td>0</td>\n",
       "      <td>0</td>\n",
       "      <td>0</td>\n",
       "      <td>0</td>\n",
       "      <td>0</td>\n",
       "    </tr>\n",
       "    <tr>\n",
       "      <th>4</th>\n",
       "      <td>0</td>\n",
       "      <td>0</td>\n",
       "      <td>0</td>\n",
       "      <td>0</td>\n",
       "      <td>0</td>\n",
       "      <td>0</td>\n",
       "      <td>0</td>\n",
       "      <td>0</td>\n",
       "      <td>0</td>\n",
       "      <td>0</td>\n",
       "      <td>...</td>\n",
       "      <td>0</td>\n",
       "      <td>0</td>\n",
       "      <td>0</td>\n",
       "      <td>0</td>\n",
       "      <td>0</td>\n",
       "      <td>0</td>\n",
       "      <td>0</td>\n",
       "      <td>0</td>\n",
       "      <td>0</td>\n",
       "      <td>0</td>\n",
       "    </tr>\n",
       "  </tbody>\n",
       "</table>\n",
       "<p>5 rows × 785 columns</p>\n",
       "</div>"
      ],
      "text/plain": [
       "   label  pixel0  pixel1  pixel2  pixel3  pixel4  pixel5  pixel6  pixel7  \\\n",
       "0      1       0       0       0       0       0       0       0       0   \n",
       "1      0       0       0       0       0       0       0       0       0   \n",
       "2      1       0       0       0       0       0       0       0       0   \n",
       "3      4       0       0       0       0       0       0       0       0   \n",
       "4      0       0       0       0       0       0       0       0       0   \n",
       "\n",
       "   pixel8  ...  pixel774  pixel775  pixel776  pixel777  pixel778  pixel779  \\\n",
       "0       0  ...         0         0         0         0         0         0   \n",
       "1       0  ...         0         0         0         0         0         0   \n",
       "2       0  ...         0         0         0         0         0         0   \n",
       "3       0  ...         0         0         0         0         0         0   \n",
       "4       0  ...         0         0         0         0         0         0   \n",
       "\n",
       "   pixel780  pixel781  pixel782  pixel783  \n",
       "0         0         0         0         0  \n",
       "1         0         0         0         0  \n",
       "2         0         0         0         0  \n",
       "3         0         0         0         0  \n",
       "4         0         0         0         0  \n",
       "\n",
       "[5 rows x 785 columns]"
      ]
     },
     "execution_count": 4,
     "metadata": {},
     "output_type": "execute_result"
    }
   ],
   "source": [
    "train.head()"
   ]
  },
  {
   "cell_type": "code",
   "execution_count": 5,
   "id": "5dd03f5d",
   "metadata": {
    "execution": {
     "iopub.execute_input": "2023-07-08T15:39:32.156584Z",
     "iopub.status.busy": "2023-07-08T15:39:32.156179Z",
     "iopub.status.idle": "2023-07-08T15:39:32.162831Z",
     "shell.execute_reply": "2023-07-08T15:39:32.161742Z"
    },
    "papermill": {
     "duration": 0.01542,
     "end_time": "2023-07-08T15:39:32.165088",
     "exception": false,
     "start_time": "2023-07-08T15:39:32.149668",
     "status": "completed"
    },
    "tags": []
   },
   "outputs": [
    {
     "data": {
      "text/plain": [
       "(42000, 785)"
      ]
     },
     "execution_count": 5,
     "metadata": {},
     "output_type": "execute_result"
    }
   ],
   "source": [
    "train.shape"
   ]
  },
  {
   "cell_type": "code",
   "execution_count": 6,
   "id": "335da616",
   "metadata": {
    "execution": {
     "iopub.execute_input": "2023-07-08T15:39:32.178089Z",
     "iopub.status.busy": "2023-07-08T15:39:32.177679Z",
     "iopub.status.idle": "2023-07-08T15:39:32.409147Z",
     "shell.execute_reply": "2023-07-08T15:39:32.407879Z"
    },
    "papermill": {
     "duration": 0.240911,
     "end_time": "2023-07-08T15:39:32.411873",
     "exception": false,
     "start_time": "2023-07-08T15:39:32.170962",
     "status": "completed"
    },
    "tags": []
   },
   "outputs": [],
   "source": [
    "train_x = train.drop(['label'],axis = 1).astype('int32')\n",
    "train_y = train['label'].astype('float32')\n",
    "test_x = test.astype('float32')"
   ]
  },
  {
   "cell_type": "code",
   "execution_count": 7,
   "id": "0d3e7809",
   "metadata": {
    "execution": {
     "iopub.execute_input": "2023-07-08T15:39:32.424889Z",
     "iopub.status.busy": "2023-07-08T15:39:32.424477Z",
     "iopub.status.idle": "2023-07-08T15:39:32.559378Z",
     "shell.execute_reply": "2023-07-08T15:39:32.558291Z"
    },
    "papermill": {
     "duration": 0.144443,
     "end_time": "2023-07-08T15:39:32.562049",
     "exception": false,
     "start_time": "2023-07-08T15:39:32.417606",
     "status": "completed"
    },
    "tags": []
   },
   "outputs": [],
   "source": [
    "train_x = train_x.values.reshape(-1,28,28,1)\n",
    "train_x = train_x/255.0\n",
    "test_x = test_x.values.reshape(-1,28,28,1)\n",
    "test_x = test_x/255.0"
   ]
  },
  {
   "cell_type": "code",
   "execution_count": 8,
   "id": "fcb476f4",
   "metadata": {
    "execution": {
     "iopub.execute_input": "2023-07-08T15:39:32.574680Z",
     "iopub.status.busy": "2023-07-08T15:39:32.574237Z",
     "iopub.status.idle": "2023-07-08T15:39:32.582482Z",
     "shell.execute_reply": "2023-07-08T15:39:32.581335Z"
    },
    "papermill": {
     "duration": 0.017245,
     "end_time": "2023-07-08T15:39:32.584858",
     "exception": false,
     "start_time": "2023-07-08T15:39:32.567613",
     "status": "completed"
    },
    "tags": []
   },
   "outputs": [
    {
     "data": {
      "text/plain": [
       "(42000, 10)"
      ]
     },
     "execution_count": 8,
     "metadata": {},
     "output_type": "execute_result"
    }
   ],
   "source": [
    "train_y = tf.keras.utils.to_categorical(train_y,10)\n",
    "train_y.shape"
   ]
  },
  {
   "cell_type": "code",
   "execution_count": 9,
   "id": "a3973431",
   "metadata": {
    "execution": {
     "iopub.execute_input": "2023-07-08T15:39:32.598529Z",
     "iopub.status.busy": "2023-07-08T15:39:32.597418Z",
     "iopub.status.idle": "2023-07-08T15:39:32.604412Z",
     "shell.execute_reply": "2023-07-08T15:39:32.603637Z"
    },
    "papermill": {
     "duration": 0.016301,
     "end_time": "2023-07-08T15:39:32.606624",
     "exception": false,
     "start_time": "2023-07-08T15:39:32.590323",
     "status": "completed"
    },
    "tags": []
   },
   "outputs": [
    {
     "data": {
      "text/plain": [
       "array([[0., 1., 0., ..., 0., 0., 0.],\n",
       "       [1., 0., 0., ..., 0., 0., 0.],\n",
       "       [0., 1., 0., ..., 0., 0., 0.],\n",
       "       ...,\n",
       "       [0., 0., 0., ..., 1., 0., 0.],\n",
       "       [0., 0., 0., ..., 0., 0., 0.],\n",
       "       [0., 0., 0., ..., 0., 0., 1.]], dtype=float32)"
      ]
     },
     "execution_count": 9,
     "metadata": {},
     "output_type": "execute_result"
    }
   ],
   "source": [
    "train_y"
   ]
  },
  {
   "cell_type": "markdown",
   "id": "9f2d4acc",
   "metadata": {
    "papermill": {
     "duration": 0.00559,
     "end_time": "2023-07-08T15:39:32.617879",
     "exception": false,
     "start_time": "2023-07-08T15:39:32.612289",
     "status": "completed"
    },
    "tags": []
   },
   "source": [
    "<h2 align=\"left\"><font color='gray'>Model \n",
    " </font></h2>"
   ]
  },
  {
   "cell_type": "code",
   "execution_count": 10,
   "id": "48257a51",
   "metadata": {
    "execution": {
     "iopub.execute_input": "2023-07-08T15:39:32.631420Z",
     "iopub.status.busy": "2023-07-08T15:39:32.630736Z",
     "iopub.status.idle": "2023-07-08T15:39:32.938661Z",
     "shell.execute_reply": "2023-07-08T15:39:32.937473Z"
    },
    "papermill": {
     "duration": 0.325326,
     "end_time": "2023-07-08T15:39:32.948809",
     "exception": false,
     "start_time": "2023-07-08T15:39:32.623483",
     "status": "completed"
    },
    "tags": []
   },
   "outputs": [
    {
     "name": "stdout",
     "output_type": "stream",
     "text": [
      "Model: \"sequential\"\n",
      "_________________________________________________________________\n",
      " Layer (type)                Output Shape              Param #   \n",
      "=================================================================\n",
      " conv2d (Conv2D)             (None, 26, 26, 32)        320       \n",
      "                                                                 \n",
      " conv2d_1 (Conv2D)           (None, 24, 24, 32)        9248      \n",
      "                                                                 \n",
      " max_pooling2d (MaxPooling2D  (None, 12, 12, 32)       0         \n",
      " )                                                               \n",
      "                                                                 \n",
      " conv2d_2 (Conv2D)           (None, 12, 12, 32)        9248      \n",
      "                                                                 \n",
      " conv2d_3 (Conv2D)           (None, 12, 12, 32)        9248      \n",
      "                                                                 \n",
      " max_pooling2d_1 (MaxPooling  (None, 6, 6, 32)         0         \n",
      " 2D)                                                             \n",
      "                                                                 \n",
      " conv2d_4 (Conv2D)           (None, 6, 6, 32)          9248      \n",
      "                                                                 \n",
      " conv2d_5 (Conv2D)           (None, 6, 6, 32)          9248      \n",
      "                                                                 \n",
      " max_pooling2d_2 (MaxPooling  (None, 3, 3, 32)         0         \n",
      " 2D)                                                             \n",
      "                                                                 \n",
      " flatten (Flatten)           (None, 288)               0         \n",
      "                                                                 \n",
      " dense (Dense)               (None, 256)               73984     \n",
      "                                                                 \n",
      " dense_1 (Dense)             (None, 256)               65792     \n",
      "                                                                 \n",
      " dense_2 (Dense)             (None, 10)                2570      \n",
      "                                                                 \n",
      "=================================================================\n",
      "Total params: 188,906\n",
      "Trainable params: 188,906\n",
      "Non-trainable params: 0\n",
      "_________________________________________________________________\n"
     ]
    }
   ],
   "source": [
    "model = tf.keras.models.Sequential([\n",
    "    \n",
    "    tf.keras.layers.Conv2D(32,(3,3),activation='relu',input_shape=(28,28,1)),\n",
    "    tf.keras.layers.Conv2D(32,(3,3),activation='relu'),\n",
    "    tf.keras.layers.MaxPooling2D(2,2),\n",
    "    \n",
    "    tf.keras.layers.Conv2D(32,(3,3),activation='relu',padding='Same'),\n",
    "    tf.keras.layers.Conv2D(32,(3,3),activation='relu',padding='Same'),\n",
    "    tf.keras.layers.MaxPooling2D(pool_size = (2,2), strides = (2,2)),\n",
    "    \n",
    "    tf.keras.layers.Conv2D(32,(3,3),activation='relu',padding='Same'),\n",
    "    tf.keras.layers.Conv2D(32,(3,3),activation='relu',padding='Same'),\n",
    "    tf.keras.layers.MaxPooling2D(pool_size = (2,2), strides = (2,2)),\n",
    "    \n",
    "    tf.keras.layers.Flatten(),\n",
    "    \n",
    "    tf.keras.layers.Dense(256, activation = 'relu'),\n",
    "    tf.keras.layers.Dense(256, activation = 'relu'),\n",
    "    tf.keras.layers.Dense(10, activation = 'softmax')\n",
    "])\n",
    "model.summary()"
   ]
  },
  {
   "cell_type": "code",
   "execution_count": 11,
   "id": "ba9253e6",
   "metadata": {
    "execution": {
     "iopub.execute_input": "2023-07-08T15:39:32.966319Z",
     "iopub.status.busy": "2023-07-08T15:39:32.965812Z",
     "iopub.status.idle": "2023-07-08T15:48:40.103346Z",
     "shell.execute_reply": "2023-07-08T15:48:40.102019Z"
    },
    "papermill": {
     "duration": 547.14907,
     "end_time": "2023-07-08T15:48:40.105643",
     "exception": false,
     "start_time": "2023-07-08T15:39:32.956573",
     "status": "completed"
    },
    "tags": []
   },
   "outputs": [
    {
     "name": "stdout",
     "output_type": "stream",
     "text": [
      "Epoch 1/10\n",
      "840/840 [==============================] - 57s 66ms/step - loss: 0.1950 - accuracy: 0.9377\n",
      "Epoch 2/10\n",
      "840/840 [==============================] - 54s 64ms/step - loss: 0.0573 - accuracy: 0.9829\n",
      "Epoch 3/10\n",
      "840/840 [==============================] - 54s 65ms/step - loss: 0.0435 - accuracy: 0.9867\n",
      "Epoch 4/10\n",
      "840/840 [==============================] - 54s 65ms/step - loss: 0.0352 - accuracy: 0.9891\n",
      "Epoch 5/10\n",
      "840/840 [==============================] - 55s 65ms/step - loss: 0.0310 - accuracy: 0.9905\n",
      "Epoch 6/10\n",
      "840/840 [==============================] - 55s 66ms/step - loss: 0.0258 - accuracy: 0.9923\n",
      "Epoch 7/10\n",
      "840/840 [==============================] - 54s 64ms/step - loss: 0.0239 - accuracy: 0.9923\n",
      "Epoch 8/10\n",
      "840/840 [==============================] - 55s 65ms/step - loss: 0.0210 - accuracy: 0.9936\n",
      "Epoch 9/10\n",
      "840/840 [==============================] - 54s 65ms/step - loss: 0.0189 - accuracy: 0.9944\n",
      "Epoch 10/10\n",
      "840/840 [==============================] - 55s 65ms/step - loss: 0.0152 - accuracy: 0.9953\n"
     ]
    },
    {
     "data": {
      "text/plain": [
       "<keras.callbacks.History at 0x7f7d6900ac50>"
      ]
     },
     "execution_count": 11,
     "metadata": {},
     "output_type": "execute_result"
    }
   ],
   "source": [
    "model.compile(optimizer = 'Adam', loss = 'categorical_crossentropy',metrics=['accuracy'])\n",
    "model.fit(train_x,train_y,batch_size=50,epochs=10)"
   ]
  },
  {
   "cell_type": "markdown",
   "id": "c50b38cc",
   "metadata": {
    "papermill": {
     "duration": 0.543521,
     "end_time": "2023-07-08T15:48:41.190998",
     "exception": false,
     "start_time": "2023-07-08T15:48:40.647477",
     "status": "completed"
    },
    "tags": []
   },
   "source": [
    "<h2 align=\"left\"><font color='gray'>Predictions 🔮\n",
    " </font></h2>"
   ]
  },
  {
   "cell_type": "code",
   "execution_count": 12,
   "id": "887555ca",
   "metadata": {
    "execution": {
     "iopub.execute_input": "2023-07-08T15:48:42.342698Z",
     "iopub.status.busy": "2023-07-08T15:48:42.342270Z",
     "iopub.status.idle": "2023-07-08T15:48:52.944033Z",
     "shell.execute_reply": "2023-07-08T15:48:52.942941Z"
    },
    "papermill": {
     "duration": 11.148012,
     "end_time": "2023-07-08T15:48:52.946573",
     "exception": false,
     "start_time": "2023-07-08T15:48:41.798561",
     "status": "completed"
    },
    "tags": []
   },
   "outputs": [
    {
     "name": "stdout",
     "output_type": "stream",
     "text": [
      "875/875 [==============================] - 10s 11ms/step\n"
     ]
    }
   ],
   "source": [
    "result = model.predict(test_x)\n",
    "result = np.argmax(result,axis = 1)\n",
    "result = pd.Series(result,name='Label')"
   ]
  },
  {
   "cell_type": "markdown",
   "id": "57714203",
   "metadata": {
    "papermill": {
     "duration": 0.562501,
     "end_time": "2023-07-08T15:48:54.063753",
     "exception": false,
     "start_time": "2023-07-08T15:48:53.501252",
     "status": "completed"
    },
    "tags": []
   },
   "source": [
    "<h2 align=\"left\"><font color='gray'>Submission 🟰\n",
    " </font></h2>"
   ]
  },
  {
   "cell_type": "code",
   "execution_count": 13,
   "id": "3d59e4fb",
   "metadata": {
    "execution": {
     "iopub.execute_input": "2023-07-08T15:48:55.238826Z",
     "iopub.status.busy": "2023-07-08T15:48:55.238084Z",
     "iopub.status.idle": "2023-07-08T15:48:55.283419Z",
     "shell.execute_reply": "2023-07-08T15:48:55.282529Z"
    },
    "papermill": {
     "duration": 0.607283,
     "end_time": "2023-07-08T15:48:55.285894",
     "exception": false,
     "start_time": "2023-07-08T15:48:54.678611",
     "status": "completed"
    },
    "tags": []
   },
   "outputs": [],
   "source": [
    "submission = pd.concat([pd.Series(range(1,28001),name = 'ImageId'),result],axis = 1)\n",
    "submission.to_csv(\"submission.csv\",index = False)"
   ]
  }
 ],
 "metadata": {
  "kernelspec": {
   "display_name": "Python 3",
   "language": "python",
   "name": "python3"
  },
  "language_info": {
   "codemirror_mode": {
    "name": "ipython",
    "version": 3
   },
   "file_extension": ".py",
   "mimetype": "text/x-python",
   "name": "python",
   "nbconvert_exporter": "python",
   "pygments_lexer": "ipython3",
   "version": "3.10.10"
  },
  "papermill": {
   "default_parameters": {},
   "duration": 592.042463,
   "end_time": "2023-07-08T15:48:58.810743",
   "environment_variables": {},
   "exception": null,
   "input_path": "__notebook__.ipynb",
   "output_path": "__notebook__.ipynb",
   "parameters": {},
   "start_time": "2023-07-08T15:39:06.768280",
   "version": "2.4.0"
  }
 },
 "nbformat": 4,
 "nbformat_minor": 5
}
